{
 "cells": [
  {
   "cell_type": "code",
   "execution_count": 3,
   "id": "c9d8530c",
   "metadata": {},
   "outputs": [
    {
     "name": "stdout",
     "output_type": "stream",
     "text": [
      " * Serving Flask app 'app'\n",
      " * Debug mode: off\n"
     ]
    },
    {
     "name": "stdout",
     "output_type": "stream",
     "text": [
      "🔗 URL publique : NgrokTunnel: \"https://3427-172-166-156-162.ngrok-free.app\" -> \"http://localhost:5000\"\n"
     ]
    },
    {
     "name": "stderr",
     "output_type": "stream",
     "text": [
      "Address already in use\n",
      "Port 5000 is in use by another program. Either identify and stop that program, or start the server with a different port.\n"
     ]
    }
   ],
   "source": [
    "import sys\n",
    "import threading\n",
    "from pyngrok import ngrok\n",
    "import os\n",
    "import getpass\n",
    "app_path = '/workspaces/codeai'\n",
    "sys.path.append(app_path)\n",
    "os.chdir(app_path)\n",
    "from app import app\n",
    "\n",
    "NGROK_AUTH_TOKEN = \"2jYaDeuLGtIQekL0UT0YiRzE54l_2tWD828DkdMbMtn8FN6XP\"\n",
    "ngrok.set_auth_token(NGROK_AUTH_TOKEN)\n",
    "threading.Thread(target=app.run, kwargs={\"debug\": False, \"use_reloader\": False}).start()\n",
    "public_url = ngrok.connect(5000)\n",
    "print(f\"🔗 URL publique : {public_url}\")"
   ]
  }
 ],
 "metadata": {
  "kernelspec": {
   "display_name": "Python 3",
   "language": "python",
   "name": "python3"
  },
  "language_info": {
   "codemirror_mode": {
    "name": "ipython",
    "version": 3
   },
   "file_extension": ".py",
   "mimetype": "text/x-python",
   "name": "python",
   "nbconvert_exporter": "python",
   "pygments_lexer": "ipython3",
   "version": "3.12.1"
  }
 },
 "nbformat": 4,
 "nbformat_minor": 5
}
